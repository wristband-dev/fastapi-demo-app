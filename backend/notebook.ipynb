{
 "cells": [
  {
   "cell_type": "code",
   "execution_count": 1,
   "metadata": {},
   "outputs": [
    {
     "name": "stderr",
     "output_type": "stream",
     "text": [
      "DEBUG:google.auth._default:Checking None for explicit credentials as part of auth process...\n",
      "DEBUG:google.auth._default:Checking Cloud SDK credentials as part of auth process...\n"
     ]
    },
    {
     "data": {
      "text/plain": [
       "<google.cloud.firestore_v1.client.Client at 0x10c6fc450>"
      ]
     },
     "execution_count": 1,
     "metadata": {},
     "output_type": "execute_result"
    }
   ],
   "source": [
    "from src.db import add_document, start_db\n",
    "\n",
    "start_db()"
   ]
  },
  {
   "cell_type": "code",
   "execution_count": 2,
   "metadata": {},
   "outputs": [
    {
     "name": "stderr",
     "output_type": "stream",
     "text": [
      "INFO:wristband.utils:Added document with ID: aMeRWDClheljgqUkb9yE\n"
     ]
    },
    {
     "data": {
      "text/plain": [
       "'aMeRWDClheljgqUkb9yE'"
      ]
     },
     "execution_count": 2,
     "metadata": {},
     "output_type": "execute_result"
    }
   ],
   "source": [
    "add_document(\"test\", {\"test\": \"test\"})"
   ]
  },
  {
   "cell_type": "code",
   "execution_count": 4,
   "metadata": {},
   "outputs": [
    {
     "name": "stderr",
     "output_type": "stream",
     "text": [
      "INFO:wristband.utils:Document data: {'test': 'test'}\n"
     ]
    },
    {
     "data": {
      "text/plain": [
       "{'test': 'test'}"
      ]
     },
     "execution_count": 4,
     "metadata": {},
     "output_type": "execute_result"
    }
   ],
   "source": [
    "from src.db import get_document\n",
    "\n",
    "get_document(\"test\", \"aMeRWDClheljgqUkb9yE\")"
   ]
  },
  {
   "cell_type": "code",
   "execution_count": 5,
   "metadata": {},
   "outputs": [
    {
     "name": "stderr",
     "output_type": "stream",
     "text": [
      "INFO:wristband.utils:Document aMeRWDClheljgqUkb9yE updated with: {'test': 'test2'}\n",
      "INFO:wristband.utils:Document aMeRWDClheljgqUkb9yE deleted\n"
     ]
    }
   ],
   "source": [
    "from src.db import update_document\n",
    "\n",
    "update_document(\"test\", \"aMeRWDClheljgqUkb9yE\", {\"test\": \"test2\"})\n",
    "from src.db import delete_document\n",
    "\n",
    "delete_document(\"test\", \"aMeRWDClheljgqUkb9yE\")\n"
   ]
  },
  {
   "cell_type": "code",
   "execution_count": 6,
   "metadata": {},
   "outputs": [
    {
     "name": "stderr",
     "output_type": "stream",
     "text": [
      "/Users/fddiferd/GitHub/wristband/wb-python-fastapi-accelerator/backend/.venv/lib/python3.11/site-packages/google/cloud/firestore_v1/base_collection.py:303: UserWarning: Detected filter using positional arguments. Prefer using the 'filter' keyword argument instead.\n",
      "  return query.where(field_path, op_string, value)\n",
      "INFO:wristband.utils:Document ID: uqXmYpcqYANLW6SwcjVt, Data: {'test': 'test'}\n"
     ]
    },
    {
     "data": {
      "text/plain": [
       "[('uqXmYpcqYANLW6SwcjVt', {'test': 'test'})]"
      ]
     },
     "execution_count": 6,
     "metadata": {},
     "output_type": "execute_result"
    }
   ],
   "source": [
    "from src.db import query_documents\n",
    "\n",
    "query_documents(\"test\", \"test\", \"==\", \"test\")"
   ]
  }
 ],
 "metadata": {
  "kernelspec": {
   "display_name": ".venv",
   "language": "python",
   "name": "python3"
  },
  "language_info": {
   "codemirror_mode": {
    "name": "ipython",
    "version": 3
   },
   "file_extension": ".py",
   "mimetype": "text/x-python",
   "name": "python",
   "nbconvert_exporter": "python",
   "pygments_lexer": "ipython3",
   "version": "3.11.0"
  }
 },
 "nbformat": 4,
 "nbformat_minor": 2
}
