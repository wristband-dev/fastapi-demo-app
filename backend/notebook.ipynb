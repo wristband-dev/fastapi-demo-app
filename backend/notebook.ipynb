{
 "cells": [
  {
   "cell_type": "code",
   "execution_count": 7,
   "metadata": {},
   "outputs": [
    {
     "ename": "",
     "evalue": "",
     "output_type": "error",
     "traceback": [
      "\u001b[1;31mThe kernel failed to start as the Python Environment 'Python 3.11.0' is no longer available. Consider selecting another kernel or refreshing the list of Python Environments."
     ]
    }
   ],
   "source": [
    "import os\n",
    "from dotenv import load_dotenv\n",
    "\n",
    "# Load environment variables from .env file\n",
    "load_dotenv()\n",
    "\n",
    "# Get and print the LOG_LEVEL environment variable\n",
    "log_level = os.getenv(\"LOG_LEVEL\", \"INFO\")\n",
    "print(f\"Current LOG_LEVEL: {log_level}\")\n"
   ]
  },
  {
   "cell_type": "code",
   "execution_count": 3,
   "metadata": {},
   "outputs": [
    {
     "name": "stdout",
     "output_type": "stream",
     "text": [
      "Virtual environment location: /Users/fddiferd/GitHub Desktop/python-accelerator/.venv\n",
      "Python executable: /Users/fddiferd/GitHub Desktop/python-accelerator/.venv/bin/python\n"
     ]
    }
   ],
   "source": [
    "# Print the virtual environment location\n",
    "import sys\n",
    "import os\n",
    "\n",
    "# Get the virtual environment path\n",
    "if hasattr(sys, 'real_prefix') or (hasattr(sys, 'base_prefix') and sys.base_prefix != sys.prefix):\n",
    "    venv_path = sys.prefix\n",
    "    print(f\"Virtual environment location: {venv_path}\")\n",
    "    \n",
    "    # Also print the Python executable path\n",
    "    python_executable = sys.executable\n",
    "    print(f\"Python executable: {python_executable}\")\n",
    "else:\n",
    "    print(\"Not running in a virtual environment\")\n"
   ]
  },
  {
   "cell_type": "code",
   "execution_count": 1,
   "metadata": {},
   "outputs": [
    {
     "ename": "ModuleNotFoundError",
     "evalue": "No module named 'firebase_admin'",
     "output_type": "error",
     "traceback": [
      "\u001b[31m---------------------------------------------------------------------------\u001b[39m",
      "\u001b[31mModuleNotFoundError\u001b[39m                       Traceback (most recent call last)",
      "\u001b[36mCell\u001b[39m\u001b[36m \u001b[39m\u001b[32mIn[1]\u001b[39m\u001b[32m, line 4\u001b[39m\n\u001b[32m      1\u001b[39m get_ipython().run_line_magic(\u001b[33m'\u001b[39m\u001b[33mload_ext\u001b[39m\u001b[33m'\u001b[39m, \u001b[33m'\u001b[39m\u001b[33mautoreload\u001b[39m\u001b[33m'\u001b[39m)\n\u001b[32m      2\u001b[39m get_ipython().run_line_magic(\u001b[33m'\u001b[39m\u001b[33mautoreload\u001b[39m\u001b[33m'\u001b[39m, \u001b[33m'\u001b[39m\u001b[33m2\u001b[39m\u001b[33m'\u001b[39m)\n\u001b[32m----> \u001b[39m\u001b[32m4\u001b[39m \u001b[38;5;28;01mfrom\u001b[39;00m\u001b[38;5;250m \u001b[39m\u001b[34;01msrc\u001b[39;00m\u001b[34;01m.\u001b[39;00m\u001b[34;01mdb\u001b[39;00m\u001b[38;5;250m \u001b[39m\u001b[38;5;28;01mimport\u001b[39;00m add_document, start_db\n\u001b[32m      6\u001b[39m start_db()\n",
      "\u001b[36mFile \u001b[39m\u001b[32m~/GitHub Desktop/wb-python-accelerator/python-accelerator/backend/src/db.py:3\u001b[39m\n\u001b[32m      1\u001b[39m \u001b[38;5;28;01mfrom\u001b[39;00m\u001b[38;5;250m \u001b[39m\u001b[34;01mlogging\u001b[39;00m\u001b[38;5;250m \u001b[39m\u001b[38;5;28;01mimport\u001b[39;00m Logger\n\u001b[32m      2\u001b[39m \u001b[38;5;28;01mfrom\u001b[39;00m\u001b[38;5;250m \u001b[39m\u001b[34;01mtyping\u001b[39;00m\u001b[38;5;250m \u001b[39m\u001b[38;5;28;01mimport\u001b[39;00m Any\n\u001b[32m----> \u001b[39m\u001b[32m3\u001b[39m \u001b[38;5;28;01mimport\u001b[39;00m\u001b[38;5;250m \u001b[39m\u001b[34;01mfirebase_admin\u001b[39;00m\n\u001b[32m      4\u001b[39m \u001b[38;5;28;01mfrom\u001b[39;00m\u001b[38;5;250m \u001b[39m\u001b[34;01mfirebase_admin\u001b[39;00m\u001b[38;5;250m \u001b[39m\u001b[38;5;28;01mimport\u001b[39;00m firestore\n\u001b[32m      5\u001b[39m \u001b[38;5;28;01mfrom\u001b[39;00m\u001b[38;5;250m \u001b[39m\u001b[34;01mgoogle\u001b[39;00m\u001b[34;01m.\u001b[39;00m\u001b[34;01mcloud\u001b[39;00m\u001b[34;01m.\u001b[39;00m\u001b[34;01mfirestore_v1\u001b[39;00m\u001b[34;01m.\u001b[39;00m\u001b[34;01mbase_document\u001b[39;00m\u001b[38;5;250m \u001b[39m\u001b[38;5;28;01mimport\u001b[39;00m DocumentSnapshot\n",
      "\u001b[31mModuleNotFoundError\u001b[39m: No module named 'firebase_admin'"
     ]
    }
   ],
   "source": [
    "%load_ext autoreload\n",
    "%autoreload 2\n",
    "\n",
    "from src.db import add_document, start_db\n",
    "\n",
    "start_db()"
   ]
  },
  {
   "cell_type": "code",
   "execution_count": 2,
   "metadata": {},
   "outputs": [
    {
     "name": "stderr",
     "output_type": "stream",
     "text": [
      "INFO:wristband.utils:Added document with ID: aMeRWDClheljgqUkb9yE\n"
     ]
    },
    {
     "data": {
      "text/plain": [
       "'aMeRWDClheljgqUkb9yE'"
      ]
     },
     "execution_count": 2,
     "metadata": {},
     "output_type": "execute_result"
    }
   ],
   "source": [
    "add_document(\"test\", {\"test\": \"test\"})"
   ]
  },
  {
   "cell_type": "code",
   "execution_count": 4,
   "metadata": {},
   "outputs": [
    {
     "name": "stderr",
     "output_type": "stream",
     "text": [
      "INFO:wristband.utils:Document data: {'test': 'test'}\n"
     ]
    },
    {
     "data": {
      "text/plain": [
       "{'test': 'test'}"
      ]
     },
     "execution_count": 4,
     "metadata": {},
     "output_type": "execute_result"
    }
   ],
   "source": [
    "from src.db import get_document\n",
    "\n",
    "get_document(\"test\", \"aMeRWDClheljgqUkb9yE\")"
   ]
  },
  {
   "cell_type": "code",
   "execution_count": 5,
   "metadata": {},
   "outputs": [
    {
     "name": "stderr",
     "output_type": "stream",
     "text": [
      "INFO:wristband.utils:Document aMeRWDClheljgqUkb9yE updated with: {'test': 'test2'}\n",
      "INFO:wristband.utils:Document aMeRWDClheljgqUkb9yE deleted\n"
     ]
    }
   ],
   "source": [
    "from src.db import update_document\n",
    "\n",
    "update_document(\"test\", \"aMeRWDClheljgqUkb9yE\", {\"test\": \"test2\"})\n",
    "from src.db import delete_document\n",
    "\n",
    "delete_document(\"test\", \"aMeRWDClheljgqUkb9yE\")\n"
   ]
  },
  {
   "cell_type": "code",
   "execution_count": null,
   "metadata": {},
   "outputs": [
    {
     "name": "stderr",
     "output_type": "stream",
     "text": [
      "INFO:wristband.utils:Document ID: J1wr0mgIU4VOv1kZ8Aqc, Data: {'created_at': DatetimeWithNanoseconds(2025, 5, 4, 22, 36, 40, 561000, tzinfo=datetime.timezone.utc), 'amount': 100.0, 'date': '2025-05-04', 'updated_at': DatetimeWithNanoseconds(2025, 5, 4, 22, 36, 40, 561000, tzinfo=datetime.timezone.utc), 'name': 'Test', 'id': 'J1wr0mgIU4VOv1kZ8Aqc', 'description': 'test desc'}\n"
     ]
    },
    {
     "data": {
      "text/plain": [
       "[{'created_at': DatetimeWithNanoseconds(2025, 5, 4, 22, 36, 40, 561000, tzinfo=datetime.timezone.utc),\n",
       "  'amount': 100.0,\n",
       "  'date': '2025-05-04',\n",
       "  'updated_at': DatetimeWithNanoseconds(2025, 5, 4, 22, 36, 40, 561000, tzinfo=datetime.timezone.utc),\n",
       "  'name': 'Test',\n",
       "  'id': 'J1wr0mgIU4VOv1kZ8Aqc',\n",
       "  'description': 'test desc'}]"
      ]
     },
     "execution_count": 9,
     "metadata": {},
     "output_type": "execute_result"
    }
   ],
   "source": [
    "from src.db import query_documents\n",
    "\n",
    "txns = query_documents(\n",
    "    collection_name=\"transactions\",\n",
    "    # field=\"name\",\n",
    "    # operator=\"==\",\n",
    "    # value=\"Test\"\n",
    ")\n",
    "\n",
    "txns"
   ]
  },
  {
   "cell_type": "code",
   "execution_count": 10,
   "metadata": {},
   "outputs": [
    {
     "name": "stdout",
     "output_type": "stream",
     "text": [
      "{'created_at': DatetimeWithNanoseconds(2025, 5, 4, 22, 36, 40, 561000, tzinfo=datetime.timezone.utc), 'amount': 100.0, 'date': '2025-05-04', 'updated_at': DatetimeWithNanoseconds(2025, 5, 4, 22, 36, 40, 561000, tzinfo=datetime.timezone.utc), 'name': 'Test', 'id': 'J1wr0mgIU4VOv1kZ8Aqc', 'description': 'test desc'}\n"
     ]
    },
    {
     "data": {
      "text/plain": [
       "Transactions(transactions=[Transaction(id='J1wr0mgIU4VOv1kZ8Aqc', created_at=DatetimeWithNanoseconds(2025, 5, 4, 22, 36, 40, 561000, tzinfo=datetime.timezone.utc), updated_at=DatetimeWithNanoseconds(2025, 5, 4, 22, 36, 40, 561000, tzinfo=datetime.timezone.utc), name='Test', amount=100.0, date='2025-05-04', description='test desc')])"
      ]
     },
     "execution_count": 10,
     "metadata": {},
     "output_type": "execute_result"
    }
   ],
   "source": [
    "from src.transaction_router import Transactions\n",
    "\n",
    "Transactions.from_db(txns)"
   ]
  }
 ],
 "metadata": {
  "kernelspec": {
   "display_name": ".venv",
   "language": "python",
   "name": "python3"
  },
  "language_info": {
   "codemirror_mode": {
    "name": "ipython",
    "version": 3
   },
   "file_extension": ".py",
   "mimetype": "text/x-python",
   "name": "python",
   "nbconvert_exporter": "python",
   "pygments_lexer": "ipython3",
   "version": "3.11.0"
  }
 },
 "nbformat": 4,
 "nbformat_minor": 2
}
